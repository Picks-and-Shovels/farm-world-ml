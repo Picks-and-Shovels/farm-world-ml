{
 "cells": [
  {
   "cell_type": "code",
   "execution_count": 1,
   "metadata": {},
   "outputs": [],
   "source": [
    "from sklearn.decomposition import TruncatedSVD\n",
    "from scipy.sparse.linalg import svds\n",
    "\n",
    "import matplotlib.pyplot as plt\n",
    "import seaborn as sns\n",
    "import pandas as pd\n",
    "import numpy as np\n",
    "import warnings\n",
    "warnings.filterwarnings(\"ignore\")"
   ]
  },
  {
   "cell_type": "code",
   "execution_count": 2,
   "metadata": {},
   "outputs": [
    {
     "data": {
      "text/html": [
       "<div>\n",
       "<style scoped>\n",
       "    .dataframe tbody tr th:only-of-type {\n",
       "        vertical-align: middle;\n",
       "    }\n",
       "\n",
       "    .dataframe tbody tr th {\n",
       "        vertical-align: top;\n",
       "    }\n",
       "\n",
       "    .dataframe thead th {\n",
       "        text-align: right;\n",
       "    }\n",
       "</style>\n",
       "<table border=\"1\" class=\"dataframe\">\n",
       "  <thead>\n",
       "    <tr style=\"text-align: right;\">\n",
       "      <th></th>\n",
       "      <th>id</th>\n",
       "      <th>createdAt</th>\n",
       "      <th>updatedAt</th>\n",
       "      <th>title</th>\n",
       "      <th>content</th>\n",
       "      <th>views</th>\n",
       "      <th>likes</th>\n",
       "      <th>writerId</th>\n",
       "      <th>userId</th>\n",
       "    </tr>\n",
       "  </thead>\n",
       "  <tbody>\n",
       "    <tr>\n",
       "      <th>0</th>\n",
       "      <td>0</td>\n",
       "      <td>2022-01-01</td>\n",
       "      <td>2022-01-01</td>\n",
       "      <td>qRbkSin7</td>\n",
       "      <td>Content</td>\n",
       "      <td>0</td>\n",
       "      <td>0</td>\n",
       "      <td>ciJM4</td>\n",
       "      <td>ZLpnX</td>\n",
       "    </tr>\n",
       "    <tr>\n",
       "      <th>1</th>\n",
       "      <td>1</td>\n",
       "      <td>2022-01-01</td>\n",
       "      <td>2022-01-01</td>\n",
       "      <td>fHJhatHR</td>\n",
       "      <td>Content</td>\n",
       "      <td>0</td>\n",
       "      <td>0</td>\n",
       "      <td>CFMVK</td>\n",
       "      <td>mozZZ</td>\n",
       "    </tr>\n",
       "    <tr>\n",
       "      <th>2</th>\n",
       "      <td>2</td>\n",
       "      <td>2022-01-01</td>\n",
       "      <td>2022-01-01</td>\n",
       "      <td>eeT0tJOC</td>\n",
       "      <td>Content</td>\n",
       "      <td>1</td>\n",
       "      <td>0</td>\n",
       "      <td>Hs6mb</td>\n",
       "      <td>9bM9z</td>\n",
       "    </tr>\n",
       "    <tr>\n",
       "      <th>3</th>\n",
       "      <td>3</td>\n",
       "      <td>2022-01-01</td>\n",
       "      <td>2022-01-01</td>\n",
       "      <td>ps34L30m</td>\n",
       "      <td>Content</td>\n",
       "      <td>1</td>\n",
       "      <td>1</td>\n",
       "      <td>ZpVhO</td>\n",
       "      <td>9bM9z</td>\n",
       "    </tr>\n",
       "    <tr>\n",
       "      <th>4</th>\n",
       "      <td>4</td>\n",
       "      <td>2022-01-01</td>\n",
       "      <td>2022-01-01</td>\n",
       "      <td>vH5UQHip</td>\n",
       "      <td>Content</td>\n",
       "      <td>0</td>\n",
       "      <td>1</td>\n",
       "      <td>nOtzI</td>\n",
       "      <td>CJ16Q</td>\n",
       "    </tr>\n",
       "  </tbody>\n",
       "</table>\n",
       "</div>"
      ],
      "text/plain": [
       "   id   createdAt   updatedAt     title  content  views  likes writerId userId\n",
       "0   0  2022-01-01  2022-01-01  qRbkSin7  Content      0      0    ciJM4  ZLpnX\n",
       "1   1  2022-01-01  2022-01-01  fHJhatHR  Content      0      0    CFMVK  mozZZ\n",
       "2   2  2022-01-01  2022-01-01  eeT0tJOC  Content      1      0    Hs6mb  9bM9z\n",
       "3   3  2022-01-01  2022-01-01  ps34L30m  Content      1      1    ZpVhO  9bM9z\n",
       "4   4  2022-01-01  2022-01-01  vH5UQHip  Content      0      1    nOtzI  CJ16Q"
      ]
     },
     "execution_count": 2,
     "metadata": {},
     "output_type": "execute_result"
    }
   ],
   "source": [
    "board_data = pd.read_csv(\"data/board.csv\")\n",
    "board_data.head()"
   ]
  },
  {
   "cell_type": "code",
   "execution_count": 3,
   "metadata": {},
   "outputs": [],
   "source": [
    "df_user_board = board_data.pivot_table(values='likes', index='userId', columns='title', aggfunc='sum').fillna(0)"
   ]
  },
  {
   "cell_type": "code",
   "execution_count": 4,
   "metadata": {},
   "outputs": [
    {
     "data": {
      "text/html": [
       "<div>\n",
       "<style scoped>\n",
       "    .dataframe tbody tr th:only-of-type {\n",
       "        vertical-align: middle;\n",
       "    }\n",
       "\n",
       "    .dataframe tbody tr th {\n",
       "        vertical-align: top;\n",
       "    }\n",
       "\n",
       "    .dataframe thead th {\n",
       "        text-align: right;\n",
       "    }\n",
       "</style>\n",
       "<table border=\"1\" class=\"dataframe\">\n",
       "  <thead>\n",
       "    <tr style=\"text-align: right;\">\n",
       "      <th>title</th>\n",
       "      <th>0Psu51R5</th>\n",
       "      <th>6655ipNU</th>\n",
       "      <th>75eyFAKf</th>\n",
       "      <th>A1QMWMUV</th>\n",
       "      <th>DJpokTgr</th>\n",
       "      <th>DkMZziTk</th>\n",
       "      <th>EN35Twj4</th>\n",
       "      <th>EXDw2BFo</th>\n",
       "      <th>Hqqc3xqc</th>\n",
       "      <th>HyW0Hr9O</th>\n",
       "      <th>...</th>\n",
       "      <th>rgjCPSrG</th>\n",
       "      <th>s52DE5gv</th>\n",
       "      <th>tSb5GK38</th>\n",
       "      <th>uGUwoC1o</th>\n",
       "      <th>urzWlSLJ</th>\n",
       "      <th>v1WGF53W</th>\n",
       "      <th>vH5UQHip</th>\n",
       "      <th>vwoMrKY4</th>\n",
       "      <th>xIAIws8Y</th>\n",
       "      <th>zs3d19OU</th>\n",
       "    </tr>\n",
       "    <tr>\n",
       "      <th>userId</th>\n",
       "      <th></th>\n",
       "      <th></th>\n",
       "      <th></th>\n",
       "      <th></th>\n",
       "      <th></th>\n",
       "      <th></th>\n",
       "      <th></th>\n",
       "      <th></th>\n",
       "      <th></th>\n",
       "      <th></th>\n",
       "      <th></th>\n",
       "      <th></th>\n",
       "      <th></th>\n",
       "      <th></th>\n",
       "      <th></th>\n",
       "      <th></th>\n",
       "      <th></th>\n",
       "      <th></th>\n",
       "      <th></th>\n",
       "      <th></th>\n",
       "      <th></th>\n",
       "    </tr>\n",
       "  </thead>\n",
       "  <tbody>\n",
       "    <tr>\n",
       "      <th>00GAX</th>\n",
       "      <td>3.0</td>\n",
       "      <td>1.0</td>\n",
       "      <td>2.0</td>\n",
       "      <td>1.0</td>\n",
       "      <td>2.0</td>\n",
       "      <td>1.0</td>\n",
       "      <td>0.0</td>\n",
       "      <td>1.0</td>\n",
       "      <td>1.0</td>\n",
       "      <td>0.0</td>\n",
       "      <td>...</td>\n",
       "      <td>3.0</td>\n",
       "      <td>0.0</td>\n",
       "      <td>1.0</td>\n",
       "      <td>2.0</td>\n",
       "      <td>0.0</td>\n",
       "      <td>1.0</td>\n",
       "      <td>0.0</td>\n",
       "      <td>0.0</td>\n",
       "      <td>0.0</td>\n",
       "      <td>1.0</td>\n",
       "    </tr>\n",
       "    <tr>\n",
       "      <th>0dcdH</th>\n",
       "      <td>0.0</td>\n",
       "      <td>2.0</td>\n",
       "      <td>1.0</td>\n",
       "      <td>1.0</td>\n",
       "      <td>0.0</td>\n",
       "      <td>0.0</td>\n",
       "      <td>2.0</td>\n",
       "      <td>0.0</td>\n",
       "      <td>0.0</td>\n",
       "      <td>1.0</td>\n",
       "      <td>...</td>\n",
       "      <td>0.0</td>\n",
       "      <td>0.0</td>\n",
       "      <td>1.0</td>\n",
       "      <td>2.0</td>\n",
       "      <td>0.0</td>\n",
       "      <td>0.0</td>\n",
       "      <td>2.0</td>\n",
       "      <td>0.0</td>\n",
       "      <td>1.0</td>\n",
       "      <td>4.0</td>\n",
       "    </tr>\n",
       "    <tr>\n",
       "      <th>1c6wb</th>\n",
       "      <td>3.0</td>\n",
       "      <td>0.0</td>\n",
       "      <td>0.0</td>\n",
       "      <td>0.0</td>\n",
       "      <td>1.0</td>\n",
       "      <td>0.0</td>\n",
       "      <td>2.0</td>\n",
       "      <td>1.0</td>\n",
       "      <td>0.0</td>\n",
       "      <td>0.0</td>\n",
       "      <td>...</td>\n",
       "      <td>1.0</td>\n",
       "      <td>0.0</td>\n",
       "      <td>0.0</td>\n",
       "      <td>1.0</td>\n",
       "      <td>0.0</td>\n",
       "      <td>1.0</td>\n",
       "      <td>1.0</td>\n",
       "      <td>0.0</td>\n",
       "      <td>1.0</td>\n",
       "      <td>0.0</td>\n",
       "    </tr>\n",
       "    <tr>\n",
       "      <th>203eL</th>\n",
       "      <td>2.0</td>\n",
       "      <td>2.0</td>\n",
       "      <td>0.0</td>\n",
       "      <td>1.0</td>\n",
       "      <td>1.0</td>\n",
       "      <td>2.0</td>\n",
       "      <td>0.0</td>\n",
       "      <td>2.0</td>\n",
       "      <td>3.0</td>\n",
       "      <td>1.0</td>\n",
       "      <td>...</td>\n",
       "      <td>2.0</td>\n",
       "      <td>2.0</td>\n",
       "      <td>0.0</td>\n",
       "      <td>0.0</td>\n",
       "      <td>1.0</td>\n",
       "      <td>0.0</td>\n",
       "      <td>2.0</td>\n",
       "      <td>1.0</td>\n",
       "      <td>0.0</td>\n",
       "      <td>1.0</td>\n",
       "    </tr>\n",
       "    <tr>\n",
       "      <th>2DxaC</th>\n",
       "      <td>0.0</td>\n",
       "      <td>1.0</td>\n",
       "      <td>0.0</td>\n",
       "      <td>0.0</td>\n",
       "      <td>0.0</td>\n",
       "      <td>0.0</td>\n",
       "      <td>0.0</td>\n",
       "      <td>1.0</td>\n",
       "      <td>0.0</td>\n",
       "      <td>0.0</td>\n",
       "      <td>...</td>\n",
       "      <td>3.0</td>\n",
       "      <td>0.0</td>\n",
       "      <td>1.0</td>\n",
       "      <td>2.0</td>\n",
       "      <td>1.0</td>\n",
       "      <td>0.0</td>\n",
       "      <td>0.0</td>\n",
       "      <td>2.0</td>\n",
       "      <td>1.0</td>\n",
       "      <td>1.0</td>\n",
       "    </tr>\n",
       "  </tbody>\n",
       "</table>\n",
       "<p>5 rows × 50 columns</p>\n",
       "</div>"
      ],
      "text/plain": [
       "title   0Psu51R5  6655ipNU  75eyFAKf  A1QMWMUV  DJpokTgr  DkMZziTk  EN35Twj4  \\\n",
       "userId                                                                         \n",
       "00GAX        3.0       1.0       2.0       1.0       2.0       1.0       0.0   \n",
       "0dcdH        0.0       2.0       1.0       1.0       0.0       0.0       2.0   \n",
       "1c6wb        3.0       0.0       0.0       0.0       1.0       0.0       2.0   \n",
       "203eL        2.0       2.0       0.0       1.0       1.0       2.0       0.0   \n",
       "2DxaC        0.0       1.0       0.0       0.0       0.0       0.0       0.0   \n",
       "\n",
       "title   EXDw2BFo  Hqqc3xqc  HyW0Hr9O  ...  rgjCPSrG  s52DE5gv  tSb5GK38  \\\n",
       "userId                                ...                                 \n",
       "00GAX        1.0       1.0       0.0  ...       3.0       0.0       1.0   \n",
       "0dcdH        0.0       0.0       1.0  ...       0.0       0.0       1.0   \n",
       "1c6wb        1.0       0.0       0.0  ...       1.0       0.0       0.0   \n",
       "203eL        2.0       3.0       1.0  ...       2.0       2.0       0.0   \n",
       "2DxaC        1.0       0.0       0.0  ...       3.0       0.0       1.0   \n",
       "\n",
       "title   uGUwoC1o  urzWlSLJ  v1WGF53W  vH5UQHip  vwoMrKY4  xIAIws8Y  zs3d19OU  \n",
       "userId                                                                        \n",
       "00GAX        2.0       0.0       1.0       0.0       0.0       0.0       1.0  \n",
       "0dcdH        2.0       0.0       0.0       2.0       0.0       1.0       4.0  \n",
       "1c6wb        1.0       0.0       1.0       1.0       0.0       1.0       0.0  \n",
       "203eL        0.0       1.0       0.0       2.0       1.0       0.0       1.0  \n",
       "2DxaC        2.0       1.0       0.0       0.0       2.0       1.0       1.0  \n",
       "\n",
       "[5 rows x 50 columns]"
      ]
     },
     "execution_count": 4,
     "metadata": {},
     "output_type": "execute_result"
    }
   ],
   "source": [
    "df_user_board.head()"
   ]
  },
  {
   "cell_type": "code",
   "execution_count": 5,
   "metadata": {},
   "outputs": [
    {
     "name": "stdout",
     "output_type": "stream",
     "text": [
      "(50, 50)\n"
     ]
    }
   ],
   "source": [
    "print(df_user_board.shape)"
   ]
  },
  {
   "cell_type": "code",
   "execution_count": 6,
   "metadata": {},
   "outputs": [],
   "source": [
    "df_user_board_T = df_user_board.values.T"
   ]
  },
  {
   "cell_type": "code",
   "execution_count": 7,
   "metadata": {},
   "outputs": [
    {
     "data": {
      "text/plain": [
       "(50, 12)"
      ]
     },
     "execution_count": 7,
     "metadata": {},
     "output_type": "execute_result"
    }
   ],
   "source": [
    "SVD = TruncatedSVD(n_components=12)\n",
    "matrix = SVD.fit_transform(df_user_board_T)\n",
    "matrix.shape"
   ]
  },
  {
   "cell_type": "code",
   "execution_count": 8,
   "metadata": {},
   "outputs": [],
   "source": [
    "corr = np.corrcoef(matrix)"
   ]
  },
  {
   "cell_type": "code",
   "execution_count": 9,
   "metadata": {},
   "outputs": [
    {
     "data": {
      "text/plain": [
       "(50, 50)"
      ]
     },
     "execution_count": 9,
     "metadata": {},
     "output_type": "execute_result"
    }
   ],
   "source": [
    "corr2 = corr[:50, :50]\n",
    "corr2.shape"
   ]
  },
  {
   "cell_type": "code",
   "execution_count": 10,
   "metadata": {},
   "outputs": [
    {
     "data": {
      "text/plain": [
       "<Axes: >"
      ]
     },
     "execution_count": 10,
     "metadata": {},
     "output_type": "execute_result"
    },
    {
     "data": {
      "image/png": "[encoded data removed]",
      "text/plain": [
       "<Figure size 1600x1000 with 2 Axes>"
      ]
     },
     "metadata": {},
     "output_type": "display_data"
    }
   ],
   "source": [
    "plt.figure(figsize=(16, 10))\n",
    "sns.heatmap(corr2)"
   ]
  },
  {
   "cell_type": "code",
   "execution_count": 11,
   "metadata": {},
   "outputs": [
    {
     "name": "stdout",
     "output_type": "stream",
     "text": [
      "['0Psu51R5', '6655ipNU', '75eyFAKf', 'A1QMWMUV', 'DJpokTgr', 'DkMZziTk', 'EN35Twj4', 'EXDw2BFo', 'Hqqc3xqc', 'HyW0Hr9O', 'KBY4GYYj', 'KBjyY5KQ', 'KDPfPSO6', 'Q6P4G579', 'Ru8SRNbj', 'Utx8Qtwf', 'VGNo7jzF', 'VlX8c0ww', 'XM3yA7vS', 'XO0xFlAM', 'Y1I6Lf2i', 'YyikqvID', 'ZJfOxkXC', 'cVYGsPrP', 'cow5IK6P', 'duNqp1vp', 'eeT0tJOC', 'elXTlOa1', 'fHJhatHR', 'gL5VYSeJ', 'gWSx0LNn', 'i4uzMKV0', 'k2UQtzZA', 'kpNyf53w', 'lrbdxvdC', 'nmIBzerY', 'o2KXWlZJ', 'ps34L30m', 'q7wF8Awq', 'qRbkSin7', 'rgjCPSrG', 's52DE5gv', 'tSb5GK38', 'uGUwoC1o', 'urzWlSLJ', 'v1WGF53W', 'vH5UQHip', 'vwoMrKY4', 'xIAIws8Y', 'zs3d19OU']\n"
     ]
    }
   ],
   "source": [
    "board_title = df_user_board.columns\n",
    "board_title_list = list(board_title)\n",
    "print(board_title_list)"
   ]
  },
  {
   "cell_type": "code",
   "execution_count": 12,
   "metadata": {},
   "outputs": [
    {
     "data": {
      "text/plain": [
       "['KBY4GYYj', 'VGNo7jzF', 'YyikqvID', 'ZJfOxkXC', 'qRbkSin7']"
      ]
     },
     "execution_count": 12,
     "metadata": {},
     "output_type": "execute_result"
    }
   ],
   "source": [
    "coffey_hands = board_title_list.index(\"qRbkSin7\")\n",
    "corr_coffey_hands  = corr[coffey_hands]\n",
    "list(board_title[(corr_coffey_hands >= 0.8)])[:50]"
   ]
  }
 ],
 "metadata": {
  "kernelspec": {
   "display_name": "Python 3",
   "language": "python",
   "name": "python3"
  },
  "language_info": {
   "codemirror_mode": {
    "name": "ipython",
    "version": 3
   },
   "file_extension": ".py",
   "mimetype": "text/x-python",
   "name": "python",
   "nbconvert_exporter": "python",
   "pygments_lexer": "ipython3",
   "version": "3.11.7"
  }
 },
 "nbformat": 4,
 "nbformat_minor": 2
}
